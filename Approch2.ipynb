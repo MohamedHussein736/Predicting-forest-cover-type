{
 "cells": [
  {
   "cell_type": "markdown",
   "metadata": {},
   "source": [
    "## **Forest Type Predication:**\n",
    "\n",
    "## Hint: Another Approach without doing(Standardization, Remove Outliers)\n",
    "\n",
    "### Content:\n",
    "*   Data Statistics and Understanding\n",
    "*   Data Visualization\n",
    "*   Data Preparation and Cleaning\n",
    "*   Feature selection\n",
    "*   Predaction Model Traning\n",
    "*   Evaluation and Analysis"
   ]
  },
  {
   "cell_type": "code",
   "execution_count": 1,
   "metadata": {},
   "outputs": [],
   "source": [
    "#include Libraries\n",
    "import pandas as pd \n",
    "from matplotlib import pyplot as plt\n",
    "import seaborn as sns\n",
    "import math\n",
    "\n",
    "# preprocessing functions and evaluation models\n",
    "from sklearn.preprocessing import StandardScaler\n",
    "from sklearn.model_selection import train_test_split, cross_val_score, GridSearchCV,RandomizedSearchCV\n",
    "from sklearn.metrics import accuracy_score, confusion_matrix\n",
    "\n",
    "# machine learning models\n",
    "from sklearn.ensemble import ExtraTreesClassifier\n",
    "\n",
    "import warnings\n",
    "warnings.filterwarnings('ignore')"
   ]
  },
  {
   "cell_type": "code",
   "execution_count": 2,
   "metadata": {
    "_cell_guid": "79c7e3d0-c299-4dcb-8224-4455121ee9b0",
    "_uuid": "d629ff2d2480ee46fbb7e2d37f6b5fab8052498a"
   },
   "outputs": [],
   "source": [
    "# Import The dataSet\n",
    "train_x =  pd.read_csv('./x_train.csv')\n",
    "train_y  = pd.read_csv('./y_train.csv')\n",
    "test_x  =  pd.read_csv('./x_test.csv')"
   ]
  },
  {
   "cell_type": "code",
   "execution_count": 3,
   "metadata": {},
   "outputs": [
    {
     "data": {
      "text/html": [
       "<div>\n",
       "<style scoped>\n",
       "    .dataframe tbody tr th:only-of-type {\n",
       "        vertical-align: middle;\n",
       "    }\n",
       "\n",
       "    .dataframe tbody tr th {\n",
       "        vertical-align: top;\n",
       "    }\n",
       "\n",
       "    .dataframe thead th {\n",
       "        text-align: right;\n",
       "    }\n",
       "</style>\n",
       "<table border=\"1\" class=\"dataframe\">\n",
       "  <thead>\n",
       "    <tr style=\"text-align: right;\">\n",
       "      <th></th>\n",
       "      <th>id</th>\n",
       "      <th>Elevation</th>\n",
       "      <th>Aspect</th>\n",
       "      <th>Slope</th>\n",
       "      <th>Horizontal_Distance_To_Hydrology</th>\n",
       "      <th>Vertical_Distance_To_Hydrology</th>\n",
       "      <th>Horizontal_Distance_To_Roadways</th>\n",
       "      <th>Hillshade_9am</th>\n",
       "      <th>Hillshade_Noon</th>\n",
       "      <th>Hillshade_3pm</th>\n",
       "      <th>...</th>\n",
       "      <th>Soil_Type_31</th>\n",
       "      <th>Soil_Type_32</th>\n",
       "      <th>Soil_Type_33</th>\n",
       "      <th>Soil_Type_34</th>\n",
       "      <th>Soil_Type_35</th>\n",
       "      <th>Soil_Type_36</th>\n",
       "      <th>Soil_Type_37</th>\n",
       "      <th>Soil_Type_38</th>\n",
       "      <th>Soil_Type_39</th>\n",
       "      <th>Soil_Type_40</th>\n",
       "    </tr>\n",
       "  </thead>\n",
       "  <tbody>\n",
       "    <tr>\n",
       "      <th>0</th>\n",
       "      <td>0</td>\n",
       "      <td>3342</td>\n",
       "      <td>15</td>\n",
       "      <td>13</td>\n",
       "      <td>350</td>\n",
       "      <td>55</td>\n",
       "      <td>2118</td>\n",
       "      <td>208</td>\n",
       "      <td>212</td>\n",
       "      <td>139</td>\n",
       "      <td>...</td>\n",
       "      <td>1</td>\n",
       "      <td>0</td>\n",
       "      <td>0</td>\n",
       "      <td>0</td>\n",
       "      <td>0</td>\n",
       "      <td>0</td>\n",
       "      <td>0</td>\n",
       "      <td>0</td>\n",
       "      <td>0</td>\n",
       "      <td>0</td>\n",
       "    </tr>\n",
       "    <tr>\n",
       "      <th>1</th>\n",
       "      <td>1</td>\n",
       "      <td>2764</td>\n",
       "      <td>39</td>\n",
       "      <td>13</td>\n",
       "      <td>175</td>\n",
       "      <td>43</td>\n",
       "      <td>2648</td>\n",
       "      <td>220</td>\n",
       "      <td>210</td>\n",
       "      <td>122</td>\n",
       "      <td>...</td>\n",
       "      <td>0</td>\n",
       "      <td>0</td>\n",
       "      <td>0</td>\n",
       "      <td>0</td>\n",
       "      <td>0</td>\n",
       "      <td>0</td>\n",
       "      <td>0</td>\n",
       "      <td>0</td>\n",
       "      <td>0</td>\n",
       "      <td>0</td>\n",
       "    </tr>\n",
       "    <tr>\n",
       "      <th>2</th>\n",
       "      <td>2</td>\n",
       "      <td>2773</td>\n",
       "      <td>158</td>\n",
       "      <td>5</td>\n",
       "      <td>162</td>\n",
       "      <td>14</td>\n",
       "      <td>2012</td>\n",
       "      <td>226</td>\n",
       "      <td>241</td>\n",
       "      <td>149</td>\n",
       "      <td>...</td>\n",
       "      <td>0</td>\n",
       "      <td>0</td>\n",
       "      <td>0</td>\n",
       "      <td>0</td>\n",
       "      <td>0</td>\n",
       "      <td>0</td>\n",
       "      <td>0</td>\n",
       "      <td>0</td>\n",
       "      <td>0</td>\n",
       "      <td>0</td>\n",
       "    </tr>\n",
       "    <tr>\n",
       "      <th>3</th>\n",
       "      <td>3</td>\n",
       "      <td>3083</td>\n",
       "      <td>108</td>\n",
       "      <td>16</td>\n",
       "      <td>30</td>\n",
       "      <td>-14</td>\n",
       "      <td>2639</td>\n",
       "      <td>246</td>\n",
       "      <td>220</td>\n",
       "      <td>98</td>\n",
       "      <td>...</td>\n",
       "      <td>1</td>\n",
       "      <td>0</td>\n",
       "      <td>0</td>\n",
       "      <td>0</td>\n",
       "      <td>0</td>\n",
       "      <td>0</td>\n",
       "      <td>0</td>\n",
       "      <td>0</td>\n",
       "      <td>0</td>\n",
       "      <td>0</td>\n",
       "    </tr>\n",
       "    <tr>\n",
       "      <th>4</th>\n",
       "      <td>4</td>\n",
       "      <td>3096</td>\n",
       "      <td>40</td>\n",
       "      <td>4</td>\n",
       "      <td>201</td>\n",
       "      <td>38</td>\n",
       "      <td>4592</td>\n",
       "      <td>220</td>\n",
       "      <td>231</td>\n",
       "      <td>147</td>\n",
       "      <td>...</td>\n",
       "      <td>0</td>\n",
       "      <td>0</td>\n",
       "      <td>0</td>\n",
       "      <td>0</td>\n",
       "      <td>0</td>\n",
       "      <td>0</td>\n",
       "      <td>0</td>\n",
       "      <td>0</td>\n",
       "      <td>0</td>\n",
       "      <td>0</td>\n",
       "    </tr>\n",
       "  </tbody>\n",
       "</table>\n",
       "<p>5 rows × 55 columns</p>\n",
       "</div>"
      ],
      "text/plain": [
       "   id  Elevation  Aspect  Slope  Horizontal_Distance_To_Hydrology  \\\n",
       "0   0       3342      15     13                               350   \n",
       "1   1       2764      39     13                               175   \n",
       "2   2       2773     158      5                               162   \n",
       "3   3       3083     108     16                                30   \n",
       "4   4       3096      40      4                               201   \n",
       "\n",
       "   Vertical_Distance_To_Hydrology  Horizontal_Distance_To_Roadways  \\\n",
       "0                              55                             2118   \n",
       "1                              43                             2648   \n",
       "2                              14                             2012   \n",
       "3                             -14                             2639   \n",
       "4                              38                             4592   \n",
       "\n",
       "   Hillshade_9am  Hillshade_Noon  Hillshade_3pm  ...  Soil_Type_31  \\\n",
       "0            208             212            139  ...             1   \n",
       "1            220             210            122  ...             0   \n",
       "2            226             241            149  ...             0   \n",
       "3            246             220             98  ...             1   \n",
       "4            220             231            147  ...             0   \n",
       "\n",
       "   Soil_Type_32  Soil_Type_33  Soil_Type_34  Soil_Type_35  Soil_Type_36  \\\n",
       "0             0             0             0             0             0   \n",
       "1             0             0             0             0             0   \n",
       "2             0             0             0             0             0   \n",
       "3             0             0             0             0             0   \n",
       "4             0             0             0             0             0   \n",
       "\n",
       "   Soil_Type_37  Soil_Type_38  Soil_Type_39  Soil_Type_40  \n",
       "0             0             0             0             0  \n",
       "1             0             0             0             0  \n",
       "2             0             0             0             0  \n",
       "3             0             0             0             0  \n",
       "4             0             0             0             0  \n",
       "\n",
       "[5 rows x 55 columns]"
      ]
     },
     "execution_count": 3,
     "metadata": {},
     "output_type": "execute_result"
    }
   ],
   "source": [
    "# check the data Measuremnent levels\n",
    "train_x.head()"
   ]
  },
  {
   "cell_type": "code",
   "execution_count": 4,
   "metadata": {},
   "outputs": [
    {
     "name": "stdout",
     "output_type": "stream",
     "text": [
      "<class 'pandas.core.frame.DataFrame'>\n",
      "RangeIndex: 406708 entries, 0 to 406707\n",
      "Data columns (total 55 columns):\n",
      " #   Column                              Non-Null Count   Dtype\n",
      "---  ------                              --------------   -----\n",
      " 0   id                                  406708 non-null  int64\n",
      " 1   Elevation                           406708 non-null  int64\n",
      " 2   Aspect                              406708 non-null  int64\n",
      " 3   Slope                               406708 non-null  int64\n",
      " 4   Horizontal_Distance_To_Hydrology    406708 non-null  int64\n",
      " 5   Vertical_Distance_To_Hydrology      406708 non-null  int64\n",
      " 6   Horizontal_Distance_To_Roadways     406708 non-null  int64\n",
      " 7   Hillshade_9am                       406708 non-null  int64\n",
      " 8   Hillshade_Noon                      406708 non-null  int64\n",
      " 9   Hillshade_3pm                       406708 non-null  int64\n",
      " 10  Horizontal_Distance_To_Fire_Points  406708 non-null  int64\n",
      " 11  Wilderness_Area_1                   406708 non-null  int64\n",
      " 12  Wilderness_Area_2                   406708 non-null  int64\n",
      " 13  Wilderness_Area_3                   406708 non-null  int64\n",
      " 14  Wilderness_Area_4                   406708 non-null  int64\n",
      " 15  Soil_Type_1                         406708 non-null  int64\n",
      " 16  Soil_Type_2                         406708 non-null  int64\n",
      " 17  Soil_Type_3                         406708 non-null  int64\n",
      " 18  Soil_Type_4                         406708 non-null  int64\n",
      " 19  Soil_Type_5                         406708 non-null  int64\n",
      " 20  Soil_Type_6                         406708 non-null  int64\n",
      " 21  Soil_Type_7                         406708 non-null  int64\n",
      " 22  Soil_Type_8                         406708 non-null  int64\n",
      " 23  Soil_Type_9                         406708 non-null  int64\n",
      " 24  Soil_Type_10                        406708 non-null  int64\n",
      " 25  Soil_Type_11                        406708 non-null  int64\n",
      " 26  Soil_Type_12                        406708 non-null  int64\n",
      " 27  Soil_Type_13                        406708 non-null  int64\n",
      " 28  Soil_Type_14                        406708 non-null  int64\n",
      " 29  Soil_Type_15                        406708 non-null  int64\n",
      " 30  Soil_Type_16                        406708 non-null  int64\n",
      " 31  Soil_Type_17                        406708 non-null  int64\n",
      " 32  Soil_Type_18                        406708 non-null  int64\n",
      " 33  Soil_Type_19                        406708 non-null  int64\n",
      " 34  Soil_Type_20                        406708 non-null  int64\n",
      " 35  Soil_Type_21                        406708 non-null  int64\n",
      " 36  Soil_Type_22                        406708 non-null  int64\n",
      " 37  Soil_Type_23                        406708 non-null  int64\n",
      " 38  Soil_Type_24                        406708 non-null  int64\n",
      " 39  Soil_Type_25                        406708 non-null  int64\n",
      " 40  Soil_Type_26                        406708 non-null  int64\n",
      " 41  Soil_Type_27                        406708 non-null  int64\n",
      " 42  Soil_Type_28                        406708 non-null  int64\n",
      " 43  Soil_Type_29                        406708 non-null  int64\n",
      " 44  Soil_Type_30                        406708 non-null  int64\n",
      " 45  Soil_Type_31                        406708 non-null  int64\n",
      " 46  Soil_Type_32                        406708 non-null  int64\n",
      " 47  Soil_Type_33                        406708 non-null  int64\n",
      " 48  Soil_Type_34                        406708 non-null  int64\n",
      " 49  Soil_Type_35                        406708 non-null  int64\n",
      " 50  Soil_Type_36                        406708 non-null  int64\n",
      " 51  Soil_Type_37                        406708 non-null  int64\n",
      " 52  Soil_Type_38                        406708 non-null  int64\n",
      " 53  Soil_Type_39                        406708 non-null  int64\n",
      " 54  Soil_Type_40                        406708 non-null  int64\n",
      "dtypes: int64(55)\n",
      "memory usage: 170.7 MB\n"
     ]
    }
   ],
   "source": [
    "# double check using the dtypes method\n",
    "train_x.info()"
   ]
  },
  {
   "cell_type": "code",
   "execution_count": 5,
   "metadata": {},
   "outputs": [
    {
     "data": {
      "image/png": "[encoded data removed]",
      "text/plain": [
       "<Figure size 1080x720 with 1 Axes>"
      ]
     },
     "metadata": {
      "needs_background": "light"
     },
     "output_type": "display_data"
    }
   ],
   "source": [
    "# Chech the Data Balance\n",
    "plt.figure(figsize=(15,10))\n",
    "sns.countplot(train_y['Cover_Type'])\n",
    "plt.xlabel(\"Type of Cover\", fontsize=12)\n",
    "plt.ylabel(\"Rows Count\", fontsize=12)\n",
    "plt.show()"
   ]
  },
  {
   "cell_type": "code",
   "execution_count": 8,
   "metadata": {},
   "outputs": [],
   "source": [
    "# Concatenate train_x with train_y\n",
    "trees = pd.concat([train_x,train_y],axis=1)"
   ]
  },
  {
   "cell_type": "code",
   "execution_count": 9,
   "metadata": {
    "scrolled": true
   },
   "outputs": [
    {
     "data": {
      "text/plain": [
       "id                                    117406.630977\n",
       "Elevation                                280.028028\n",
       "Aspect                                   111.925462\n",
       "Slope                                      7.490411\n",
       "Horizontal_Distance_To_Hydrology         212.462577\n",
       "Vertical_Distance_To_Hydrology            58.327213\n",
       "Horizontal_Distance_To_Roadways         1559.559608\n",
       "Hillshade_9am                             26.785128\n",
       "Hillshade_Noon                            19.777075\n",
       "Hillshade_3pm                             38.269583\n",
       "Horizontal_Distance_To_Fire_Points      1323.353986\n",
       "Wilderness_Area_1                          0.497401\n",
       "Wilderness_Area_2                          0.221183\n",
       "Wilderness_Area_3                          0.495851\n",
       "Wilderness_Area_4                          0.244072\n",
       "Soil_Type_1                                0.071892\n",
       "Soil_Type_2                                0.113240\n",
       "Soil_Type_3                                0.090650\n",
       "Soil_Type_4                                0.144945\n",
       "Soil_Type_5                                0.052100\n",
       "Soil_Type_6                                0.106121\n",
       "Soil_Type_7                                0.013024\n",
       "Soil_Type_8                                0.017668\n",
       "Soil_Type_9                                0.044583\n",
       "Soil_Type_10                               0.230061\n",
       "Soil_Type_11                               0.144000\n",
       "Soil_Type_12                               0.220789\n",
       "Soil_Type_13                               0.170755\n",
       "Soil_Type_14                               0.032119\n",
       "Soil_Type_15                               0.002218\n",
       "Soil_Type_16                               0.069970\n",
       "Soil_Type_17                               0.076623\n",
       "Soil_Type_18                               0.057878\n",
       "Soil_Type_19                               0.083519\n",
       "Soil_Type_20                               0.125054\n",
       "Soil_Type_21                               0.038381\n",
       "Soil_Type_22                               0.232235\n",
       "Soil_Type_23                               0.299486\n",
       "Soil_Type_24                               0.187325\n",
       "Soil_Type_25                               0.028517\n",
       "Soil_Type_26                               0.066471\n",
       "Soil_Type_27                               0.043442\n",
       "Soil_Type_28                               0.041035\n",
       "Soil_Type_29                               0.398595\n",
       "Soil_Type_30                               0.222400\n",
       "Soil_Type_31                               0.205771\n",
       "Soil_Type_32                               0.286728\n",
       "Soil_Type_33                               0.267333\n",
       "Soil_Type_34                               0.052846\n",
       "Soil_Type_35                               0.056792\n",
       "Soil_Type_36                               0.014957\n",
       "Soil_Type_37                               0.023410\n",
       "Soil_Type_38                               0.161867\n",
       "Soil_Type_39                               0.152221\n",
       "Soil_Type_40                               0.122104\n",
       "id                                    117406.630977\n",
       "Cover_Type                                 1.396507\n",
       "dtype: float64"
      ]
     },
     "execution_count": 9,
     "metadata": {},
     "output_type": "execute_result"
    }
   ],
   "source": [
    "trees.std()"
   ]
  },
  {
   "cell_type": "code",
   "execution_count": 10,
   "metadata": {},
   "outputs": [],
   "source": [
    "trees.drop(['Soil_Type_7'], axis=1, inplace=True)\n",
    "trees.drop(['Soil_Type_8'], axis=1, inplace=True)\n",
    "trees.drop(['Soil_Type_15'], axis=1, inplace=True)\n",
    "trees.drop(['Soil_Type_36'], axis=1, inplace=True)\n",
    "trees.drop(['Soil_Type_37'], axis=1, inplace=True)"
   ]
  },
  {
   "cell_type": "code",
   "execution_count": 11,
   "metadata": {},
   "outputs": [],
   "source": [
    "test_x.drop(['Soil_Type_7'], axis=1, inplace=True)\n",
    "test_x.drop(['Soil_Type_8'], axis=1, inplace=True)\n",
    "test_x.drop(['Soil_Type_15'], axis=1, inplace=True)\n",
    "test_x.drop(['Soil_Type_36'], axis=1, inplace=True)\n",
    "test_x.drop(['Soil_Type_37'], axis=1, inplace=True)"
   ]
  },
  {
   "cell_type": "code",
   "execution_count": 12,
   "metadata": {},
   "outputs": [],
   "source": [
    "trees.drop(['id'], axis=1, inplace=True)\n",
    "test_x.drop (['id'], axis=1, inplace=True)"
   ]
  },
  {
   "cell_type": "code",
   "execution_count": 13,
   "metadata": {},
   "outputs": [
    {
     "data": {
      "text/plain": [
       "Text(0.5, 1.0, 'Pearson Correlation of Numeric Features')"
      ]
     },
     "execution_count": 13,
     "metadata": {},
     "output_type": "execute_result"
    },
    {
     "data": {
      "image/png": "[encoded data removed]",
      "text/plain": [
       "<Figure size 1008x864 with 2 Axes>"
      ]
     },
     "metadata": {
      "needs_background": "light"
     },
     "output_type": "display_data"
    }
   ],
   "source": [
    "corr = trees.iloc[:,0:9].corr()\n",
    "# plot the heatmap\n",
    "plt.figure(figsize=(14,12))\n",
    "colormap = plt.cm.RdBu\n",
    "sns.heatmap(corr,linewidths=0.1, \n",
    "            square=False, cmap=colormap, linecolor='white', annot=True)\n",
    "plt.title('Pearson Correlation of Numeric Features', size=14)"
   ]
  },
  {
   "cell_type": "code",
   "execution_count": 14,
   "metadata": {},
   "outputs": [],
   "source": [
    "trees['Diagonal_Distanse_to_Hydrolody'] = (trees['Horizontal_Distance_To_Hydrology']**2+trees['Vertical_Distance_To_Hydrology']**2)**0.5\n",
    "test_x['Diagonal_Distanse_to_Hydrolody']  = (test_x['Horizontal_Distance_To_Hydrology']**2+test_x['Vertical_Distance_To_Hydrology']**2)**0.5"
   ]
  },
  {
   "cell_type": "code",
   "execution_count": 15,
   "metadata": {},
   "outputs": [],
   "source": [
    "bkTree = trees.copy()"
   ]
  },
  {
   "cell_type": "code",
   "execution_count": 16,
   "metadata": {},
   "outputs": [],
   "source": [
    "train_y['Cover_Type'] = bkTree['Cover_Type'] "
   ]
  },
  {
   "cell_type": "code",
   "execution_count": 17,
   "metadata": {},
   "outputs": [],
   "source": [
    "trees.drop(['Cover_Type'], axis=1, inplace=True)"
   ]
  },
  {
   "cell_type": "code",
   "execution_count": 18,
   "metadata": {},
   "outputs": [],
   "source": [
    "train_x = trees.copy()"
   ]
  },
  {
   "cell_type": "code",
   "execution_count": 19,
   "metadata": {
    "scrolled": true
   },
   "outputs": [
    {
     "data": {
      "text/html": [
       "<div>\n",
       "<style scoped>\n",
       "    .dataframe tbody tr th:only-of-type {\n",
       "        vertical-align: middle;\n",
       "    }\n",
       "\n",
       "    .dataframe tbody tr th {\n",
       "        vertical-align: top;\n",
       "    }\n",
       "\n",
       "    .dataframe thead th {\n",
       "        text-align: right;\n",
       "    }\n",
       "</style>\n",
       "<table border=\"1\" class=\"dataframe\">\n",
       "  <thead>\n",
       "    <tr style=\"text-align: right;\">\n",
       "      <th></th>\n",
       "      <th>Elevation</th>\n",
       "      <th>Aspect</th>\n",
       "      <th>Slope</th>\n",
       "      <th>Horizontal_Distance_To_Hydrology</th>\n",
       "      <th>Vertical_Distance_To_Hydrology</th>\n",
       "      <th>Horizontal_Distance_To_Roadways</th>\n",
       "      <th>Hillshade_9am</th>\n",
       "      <th>Hillshade_Noon</th>\n",
       "      <th>Hillshade_3pm</th>\n",
       "      <th>Horizontal_Distance_To_Fire_Points</th>\n",
       "      <th>...</th>\n",
       "      <th>Soil_Type_30</th>\n",
       "      <th>Soil_Type_31</th>\n",
       "      <th>Soil_Type_32</th>\n",
       "      <th>Soil_Type_33</th>\n",
       "      <th>Soil_Type_34</th>\n",
       "      <th>Soil_Type_35</th>\n",
       "      <th>Soil_Type_38</th>\n",
       "      <th>Soil_Type_39</th>\n",
       "      <th>Soil_Type_40</th>\n",
       "      <th>Diagonal_Distanse_to_Hydrolody</th>\n",
       "    </tr>\n",
       "  </thead>\n",
       "  <tbody>\n",
       "    <tr>\n",
       "      <th>0</th>\n",
       "      <td>3342</td>\n",
       "      <td>15</td>\n",
       "      <td>13</td>\n",
       "      <td>350</td>\n",
       "      <td>55</td>\n",
       "      <td>2118</td>\n",
       "      <td>208</td>\n",
       "      <td>212</td>\n",
       "      <td>139</td>\n",
       "      <td>1486</td>\n",
       "      <td>...</td>\n",
       "      <td>0</td>\n",
       "      <td>1</td>\n",
       "      <td>0</td>\n",
       "      <td>0</td>\n",
       "      <td>0</td>\n",
       "      <td>0</td>\n",
       "      <td>0</td>\n",
       "      <td>0</td>\n",
       "      <td>0</td>\n",
       "      <td>354.295075</td>\n",
       "    </tr>\n",
       "    <tr>\n",
       "      <th>1</th>\n",
       "      <td>2764</td>\n",
       "      <td>39</td>\n",
       "      <td>13</td>\n",
       "      <td>175</td>\n",
       "      <td>43</td>\n",
       "      <td>2648</td>\n",
       "      <td>220</td>\n",
       "      <td>210</td>\n",
       "      <td>122</td>\n",
       "      <td>366</td>\n",
       "      <td>...</td>\n",
       "      <td>0</td>\n",
       "      <td>0</td>\n",
       "      <td>0</td>\n",
       "      <td>0</td>\n",
       "      <td>0</td>\n",
       "      <td>0</td>\n",
       "      <td>0</td>\n",
       "      <td>0</td>\n",
       "      <td>0</td>\n",
       "      <td>180.205438</td>\n",
       "    </tr>\n",
       "    <tr>\n",
       "      <th>2</th>\n",
       "      <td>2773</td>\n",
       "      <td>158</td>\n",
       "      <td>5</td>\n",
       "      <td>162</td>\n",
       "      <td>14</td>\n",
       "      <td>2012</td>\n",
       "      <td>226</td>\n",
       "      <td>241</td>\n",
       "      <td>149</td>\n",
       "      <td>967</td>\n",
       "      <td>...</td>\n",
       "      <td>0</td>\n",
       "      <td>0</td>\n",
       "      <td>0</td>\n",
       "      <td>0</td>\n",
       "      <td>0</td>\n",
       "      <td>0</td>\n",
       "      <td>0</td>\n",
       "      <td>0</td>\n",
       "      <td>0</td>\n",
       "      <td>162.603813</td>\n",
       "    </tr>\n",
       "    <tr>\n",
       "      <th>3</th>\n",
       "      <td>3083</td>\n",
       "      <td>108</td>\n",
       "      <td>16</td>\n",
       "      <td>30</td>\n",
       "      <td>-14</td>\n",
       "      <td>2639</td>\n",
       "      <td>246</td>\n",
       "      <td>220</td>\n",
       "      <td>98</td>\n",
       "      <td>1909</td>\n",
       "      <td>...</td>\n",
       "      <td>0</td>\n",
       "      <td>1</td>\n",
       "      <td>0</td>\n",
       "      <td>0</td>\n",
       "      <td>0</td>\n",
       "      <td>0</td>\n",
       "      <td>0</td>\n",
       "      <td>0</td>\n",
       "      <td>0</td>\n",
       "      <td>33.105891</td>\n",
       "    </tr>\n",
       "    <tr>\n",
       "      <th>4</th>\n",
       "      <td>3096</td>\n",
       "      <td>40</td>\n",
       "      <td>4</td>\n",
       "      <td>201</td>\n",
       "      <td>38</td>\n",
       "      <td>4592</td>\n",
       "      <td>220</td>\n",
       "      <td>231</td>\n",
       "      <td>147</td>\n",
       "      <td>2432</td>\n",
       "      <td>...</td>\n",
       "      <td>0</td>\n",
       "      <td>0</td>\n",
       "      <td>0</td>\n",
       "      <td>0</td>\n",
       "      <td>0</td>\n",
       "      <td>0</td>\n",
       "      <td>0</td>\n",
       "      <td>0</td>\n",
       "      <td>0</td>\n",
       "      <td>204.560504</td>\n",
       "    </tr>\n",
       "  </tbody>\n",
       "</table>\n",
       "<p>5 rows × 50 columns</p>\n",
       "</div>"
      ],
      "text/plain": [
       "   Elevation  Aspect  Slope  Horizontal_Distance_To_Hydrology  \\\n",
       "0       3342      15     13                               350   \n",
       "1       2764      39     13                               175   \n",
       "2       2773     158      5                               162   \n",
       "3       3083     108     16                                30   \n",
       "4       3096      40      4                               201   \n",
       "\n",
       "   Vertical_Distance_To_Hydrology  Horizontal_Distance_To_Roadways  \\\n",
       "0                              55                             2118   \n",
       "1                              43                             2648   \n",
       "2                              14                             2012   \n",
       "3                             -14                             2639   \n",
       "4                              38                             4592   \n",
       "\n",
       "   Hillshade_9am  Hillshade_Noon  Hillshade_3pm  \\\n",
       "0            208             212            139   \n",
       "1            220             210            122   \n",
       "2            226             241            149   \n",
       "3            246             220             98   \n",
       "4            220             231            147   \n",
       "\n",
       "   Horizontal_Distance_To_Fire_Points  ...  Soil_Type_30  Soil_Type_31  \\\n",
       "0                                1486  ...             0             1   \n",
       "1                                 366  ...             0             0   \n",
       "2                                 967  ...             0             0   \n",
       "3                                1909  ...             0             1   \n",
       "4                                2432  ...             0             0   \n",
       "\n",
       "   Soil_Type_32  Soil_Type_33  Soil_Type_34  Soil_Type_35  Soil_Type_38  \\\n",
       "0             0             0             0             0             0   \n",
       "1             0             0             0             0             0   \n",
       "2             0             0             0             0             0   \n",
       "3             0             0             0             0             0   \n",
       "4             0             0             0             0             0   \n",
       "\n",
       "   Soil_Type_39  Soil_Type_40  Diagonal_Distanse_to_Hydrolody  \n",
       "0             0             0                      354.295075  \n",
       "1             0             0                      180.205438  \n",
       "2             0             0                      162.603813  \n",
       "3             0             0                       33.105891  \n",
       "4             0             0                      204.560504  \n",
       "\n",
       "[5 rows x 50 columns]"
      ]
     },
     "execution_count": 19,
     "metadata": {},
     "output_type": "execute_result"
    }
   ],
   "source": [
    "train_x.head()"
   ]
  },
  {
   "cell_type": "code",
   "execution_count": 20,
   "metadata": {},
   "outputs": [],
   "source": [
    "x_train, x_test, y_train, y_test = train_test_split(train_x, bkTree['Cover_Type'], test_size = 0.2, random_state = 10)\n",
    "\n",
    "x_train.reset_index(drop=True, inplace=True)\n",
    "y_train.reset_index(drop=True, inplace=True)\n",
    "x_test.reset_index(drop=True, inplace=True)\n",
    "y_test.reset_index(drop=True, inplace=True)"
   ]
  },
  {
   "cell_type": "code",
   "execution_count": 21,
   "metadata": {},
   "outputs": [],
   "source": [
    "# class_weight='balanced' because the data are imbalanced\n",
    "tree = ExtraTreesClassifier(n_estimators=500, criterion = 'entropy',class_weight='balanced')"
   ]
  },
  {
   "cell_type": "code",
   "execution_count": 22,
   "metadata": {
    "scrolled": true
   },
   "outputs": [
    {
     "data": {
      "text/plain": [
       "ExtraTreesClassifier(class_weight='balanced', criterion='entropy',\n",
       "                     n_estimators=1)"
      ]
     },
     "execution_count": 22,
     "metadata": {},
     "output_type": "execute_result"
    }
   ],
   "source": [
    "tree.fit(x_train, y_train)"
   ]
  },
  {
   "cell_type": "code",
   "execution_count": 28,
   "metadata": {},
   "outputs": [],
   "source": [
    "y_pred = tree.predict(x_test)\n",
    "# Accuracy score\n",
    "print(accuracy_score(y_test, y_pred)*100)"
   ]
  },
  {
   "cell_type": "code",
   "execution_count": 24,
   "metadata": {},
   "outputs": [],
   "source": [
    "y_pred_f = tree.predict(test_x)"
   ]
  },
  {
   "cell_type": "code",
   "execution_count": 25,
   "metadata": {},
   "outputs": [],
   "source": [
    "x =  pd.read_csv('./y_test_baseline.csv')"
   ]
  },
  {
   "cell_type": "code",
   "execution_count": 29,
   "metadata": {},
   "outputs": [],
   "source": [
    "y_pred_f.shape"
   ]
  },
  {
   "cell_type": "code",
   "execution_count": 27,
   "metadata": {},
   "outputs": [],
   "source": [
    "#Kaggle Submition\n",
    "my_submission = pd.DataFrame({'id': x.id,'Cover_Type': y_pred_f})\n",
    "my_submission.head()\n",
    "my_submission.to_csv('submission10.csv', index=False)"
   ]
  }
 ],
 "metadata": {
  "kernelspec": {
   "display_name": "Python 3",
   "language": "python",
   "name": "python3"
  },
  "language_info": {
   "codemirror_mode": {
    "name": "ipython",
    "version": 3
   },
   "file_extension": ".py",
   "mimetype": "text/x-python",
   "name": "python",
   "nbconvert_exporter": "python",
   "pygments_lexer": "ipython3",
   "version": "3.8.3"
  }
 },
 "nbformat": 4,
 "nbformat_minor": 4
}
